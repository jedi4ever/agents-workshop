{
 "cells": [
  {
   "cell_type": "markdown",
   "metadata": {},
   "source": [
    "# Lesson 2 - ReAct pattern using langchain\n",
    "- In this lesson we explain the ReAct pattern to improve the results of prompts\n",
    "- Details can be found at: <https://www.promptingguide.ai/techniques/react>\n",
    "\n",
    "> ReAct is a general paradigm that combines reasoning and acting with LLMs. ReAct prompts LLMs to generate verbal reasoning traces and actions for a task. This allows the system to perform dynamic reasoning to create, maintain, and adjust plans for acting while also enabling interaction to external environments (e.g., Wikipedia) to incorporate additional information into the reasoning.\n",
    "\n",
    "![Diagram React](https://www.promptingguide.ai/_next/image?url=%2F_next%2Fstatic%2Fmedia%2Freact.8e7c93ae.png&w=1920&q=75)"
   ]
  },
  {
   "cell_type": "code",
   "execution_count": 1,
   "metadata": {},
   "outputs": [
    {
     "name": "stdout",
     "output_type": "stream",
     "text": [
      "Note: you may need to restart the kernel to use updated packages.\n"
     ]
    }
   ],
   "source": [
    "# We first install the packages\n",
    "%pip install langchain langchain-openai  langchain-community langchainhub --quiet"
   ]
  },
  {
   "cell_type": "code",
   "execution_count": 2,
   "metadata": {},
   "outputs": [
    {
     "name": "stdout",
     "output_type": "stream",
     "text": [
      "Note: you may need to restart the kernel to use updated packages.\n"
     ]
    },
    {
     "data": {
      "text/plain": [
       "True"
      ]
     },
     "execution_count": 2,
     "metadata": {},
     "output_type": "execute_result"
    }
   ],
   "source": [
    "# We install our envirnment variables helper library\n",
    "%pip install python-dotenv --quiet\n",
    "\n",
    "# We load the library and the environment variables\n",
    "import dotenv\n",
    "dotenv.load_dotenv()"
   ]
  },
  {
   "cell_type": "markdown",
   "metadata": {},
   "source": [
    "This example is based on <https://python.langchain.com/v0.1/docs/modules/agents/agent_types/react/>"
   ]
  },
  {
   "cell_type": "code",
   "execution_count": 3,
   "metadata": {},
   "outputs": [],
   "source": [
    "# Instead of building our prompt,\n",
    "# we can reuse one of the prompts available from the Langchain Hub registry.\n",
    "from langchain import hub\n",
    "prompt = hub.pull(\"hwchase17/react\")"
   ]
  },
  {
   "cell_type": "code",
   "execution_count": 4,
   "metadata": {},
   "outputs": [
    {
     "name": "stdout",
     "output_type": "stream",
     "text": [
      "--> Prompt template variables:\n",
      "['agent_scratchpad', 'input', 'tool_names', 'tools']\n",
      "\n",
      "--> Prompt template metadata:\n",
      "{'lc_hub_owner': 'hwchase17', 'lc_hub_repo': 'react', 'lc_hub_commit_hash': 'd15fe3c426f1c4b3f37c9198853e4a86e20c425ca7f4752ec0c9b0e97ca7ea4d'}\n",
      "\n",
      "--> Prompt template content:\n",
      "Answer the following questions as best you can. You have access to the following tools:\n",
      "\n",
      "{tools}\n",
      "\n",
      "Use the following format:\n",
      "\n",
      "Question: the input question you must answer\n",
      "Thought: you should always think about what to do\n",
      "Action: the action to take, should be one of [{tool_names}]\n",
      "Action Input: the input to the action\n",
      "Observation: the result of the action\n",
      "... (this Thought/Action/Action Input/Observation can repeat N times)\n",
      "Thought: I now know the final answer\n",
      "Final Answer: the final answer to the original input question\n",
      "\n",
      "Begin!\n",
      "\n",
      "Question: {input}\n",
      "Thought:{agent_scratchpad}\n"
     ]
    }
   ],
   "source": [
    "# Now we can inspect the templae\n",
    "print(\"--> Prompt template variables:\")\n",
    "print(prompt.input_variables)\n",
    "\n",
    "print(\"\\n--> Prompt template metadata:\")\n",
    "print(prompt.metadata)\n",
    "\n",
    "print(\"\\n--> Prompt template content:\")\n",
    "print(prompt.template)"
   ]
  },
  {
   "cell_type": "code",
   "execution_count": 5,
   "metadata": {},
   "outputs": [],
   "source": [
    "# We load our helper callback to see what goes over the wire\n",
    "from _callbacks import PrettyPrintCallbackHandler\n",
    "callback = PrettyPrintCallbackHandler()"
   ]
  },
  {
   "cell_type": "code",
   "execution_count": 6,
   "metadata": {},
   "outputs": [],
   "source": [
    "# We load the llm mode using our helper and based onthe settings\n",
    "import _models\n",
    "import _settings\n",
    "llm=_models.get_llm(_settings.MODEL_NAME, callbacks=[callback])"
   ]
  },
  {
   "cell_type": "code",
   "execution_count": 7,
   "metadata": {},
   "outputs": [],
   "source": [
    "# We load our challenge from the settings\n",
    "import _settings\n",
    "challenge_prompt=_settings.CHALLENGE_PROMPT"
   ]
  },
  {
   "cell_type": "code",
   "execution_count": 8,
   "metadata": {},
   "outputs": [],
   "source": [
    "# Construct the ReAct agent\n",
    "from langchain.agents import AgentExecutor, create_react_agent\n",
    "\n",
    "# For now we don't add tools yet\n",
    "tools = []\n",
    "agent = create_react_agent(llm, tools, prompt)"
   ]
  },
  {
   "cell_type": "code",
   "execution_count": 9,
   "metadata": {},
   "outputs": [],
   "source": [
    "# Create an agent executor by passing in the agent and tools\n",
    "agent_executor = AgentExecutor(agent=agent, \n",
    "   tools=tools, verbose=True, callbacks=[callback],\n",
    "   return_intermediate_steps=True, max_iterations=15,\n",
    ")"
   ]
  },
  {
   "cell_type": "code",
   "execution_count": 10,
   "metadata": {},
   "outputs": [
    {
     "name": "stdout",
     "output_type": "stream",
     "text": [
      "[chain][start] - inputs {'input': 'Write me a shell script to list the files in the current directory. \\nOutput the script as markdown code block'}\n",
      "\n",
      "\n",
      "\u001b[1m> Entering new AgentExecutor chain...\u001b[0m\n",
      "[chat_model][start] - prompts : Answer the following questions as best you can. You have access to the following tools:\n",
      "\n",
      "\n",
      "\n",
      "Use the following format:\n",
      "\n",
      "Question: the input question you must answer\n",
      "Thought: you should always think about what to do\n",
      "Action: the action to take, should be one of []\n",
      "Action Input: the input to the action\n",
      "Observation: the result of the action\n",
      "... (this Thought/Action/Action Input/Observation can repeat N times)\n",
      "Thought: I now know the final answer\n",
      "Final Answer: the final answer to the original input question\n",
      "\n",
      "Begin!\n",
      "\n",
      "Question: Write me a shell script to list the files in the current directory. \n",
      "Output the script as markdown code block\n",
      "Thought:\n",
      "\n",
      "=============\n",
      "[llm][end] - generation To answer this question, I need to write a simple shell script that lists the files in the current directory. The script will use the 'ls' command, which is a standard command to list files in Unix and Unix-like operating systems. I will then format the script as a markdown code block.\n",
      "Action: None\n",
      "Action Input: None\n",
      "[agent][action] - action: tool='None' tool_input='None' log=\"To answer this question, I need to write a simple shell script that lists the files in the current directory. The script will use the 'ls' command, which is a standard command to list files in Unix and Unix-like operating systems. I will then format the script as a markdown code block.\\nAction: None\\nAction Input: None\"\n",
      "\u001b[32;1m\u001b[1;3mTo answer this question, I need to write a simple shell script that lists the files in the current directory. The script will use the 'ls' command, which is a standard command to list files in Unix and Unix-like operating systems. I will then format the script as a markdown code block.\n",
      "Action: None\n",
      "Action Input: None\u001b[0mNone is not a valid tool, try one of [].[chat_model][start] - prompts : Answer the following questions as best you can. You have access to the following tools:\n",
      "\n",
      "\n",
      "\n",
      "Use the following format:\n",
      "\n",
      "Question: the input question you must answer\n",
      "Thought: you should always think about what to do\n",
      "Action: the action to take, should be one of []\n",
      "Action Input: the input to the action\n",
      "Observation: the result of the action\n",
      "... (this Thought/Action/Action Input/Observation can repeat N times)\n",
      "Thought: I now know the final answer\n",
      "Final Answer: the final answer to the original input question\n",
      "\n",
      "Begin!\n",
      "\n",
      "Question: Write me a shell script to list the files in the current directory. \n",
      "Output the script as markdown code block\n",
      "Thought:To answer this question, I need to write a simple shell script that lists the files in the current directory. The script will use the 'ls' command, which is a standard command to list files in Unix and Unix-like operating systems. I will then format the script as a markdown code block.\n",
      "Action: None\n",
      "Action Input: None\n",
      "Observation: None is not a valid tool, try one of [].\n",
      "Thought: \n",
      "\n",
      "=============\n",
      "[llm][end] - generation I now know the final answer\n",
      "Final Answer: Here is the shell script formatted as a markdown code block:\n",
      "\n",
      "```bash\n",
      "#!/bin/bash\n",
      "# This script will list the files in the current directory\n",
      "ls\n",
      "```\n",
      "[agent][finish] - finish: return_values={'output': 'Here is the shell script formatted as a markdown code block:\\n\\n```bash\\n#!/bin/bash\\n# This script will list the files in the current directory\\nls\\n```'} log='I now know the final answer\\nFinal Answer: Here is the shell script formatted as a markdown code block:\\n\\n```bash\\n#!/bin/bash\\n# This script will list the files in the current directory\\nls\\n```'\n",
      "\u001b[32;1m\u001b[1;3mI now know the final answer\n",
      "Final Answer: Here is the shell script formatted as a markdown code block:\n",
      "\n",
      "```bash\n",
      "#!/bin/bash\n",
      "# This script will list the files in the current directory\n",
      "ls\n",
      "```\u001b[0m\n",
      "[chain][end] - outputs: {'output': 'Here is the shell script formatted as a markdown code block:\\n\\n```bash\\n#!/bin/bash\\n# This script will list the files in the current directory\\nls\\n```', 'intermediate_steps': [(AgentAction(tool='None', tool_input='None', log=\"To answer this question, I need to write a simple shell script that lists the files in the current directory. The script will use the 'ls' command, which is a standard command to list files in Unix and Unix-like operating systems. I will then format the script as a markdown code block.\\nAction: None\\nAction Input: None\"), 'None is not a valid tool, try one of [].')]}\n",
      "\n",
      "\u001b[1m> Finished chain.\u001b[0m\n",
      "==================================================\n"
     ]
    }
   ],
   "source": [
    "# Next we invoke our agent executor with our challenge\n",
    "result = agent_executor.invoke({\"input\": challenge_prompt})\n",
    "print(\"==================================================\")\n"
   ]
  },
  {
   "cell_type": "code",
   "execution_count": 11,
   "metadata": {},
   "outputs": [
    {
     "name": "stdout",
     "output_type": "stream",
     "text": [
      "Write me a shell script to list the files in the current directory. \n",
      "Output the script as markdown code block\n",
      "==================================================\n",
      "(AgentAction(tool='None', tool_input='None', log=\"To answer this question, I need to write a simple shell script that lists the files in the current directory. The script will use the 'ls' command, which is a standard command to list files in Unix and Unix-like operating systems. I will then format the script as a markdown code block.\\nAction: None\\nAction Input: None\"), 'None is not a valid tool, try one of [].')\n",
      "==================================================\n",
      "Here is the shell script formatted as a markdown code block:\n",
      "\n",
      "```bash\n",
      "#!/bin/bash\n",
      "# This script will list the files in the current directory\n",
      "ls\n",
      "```\n"
     ]
    }
   ],
   "source": [
    "# Let's inspect the results\n",
    "print(result[\"input\"])\n",
    "print(\"==================================================\")\n",
    "steps = result[\"intermediate_steps\"]\n",
    "for step in steps:\n",
    "    print(step)\n",
    "    #print(step.get\"log\"))\n",
    "    print(\"==================================================\")\n",
    "print(result[\"output\"])"
   ]
  }
 ],
 "metadata": {
  "kernelspec": {
   "display_name": "workshop-agents-DUG816Iy-py3.12",
   "language": "python",
   "name": "python3"
  },
  "language_info": {
   "codemirror_mode": {
    "name": "ipython",
    "version": 3
   },
   "file_extension": ".py",
   "mimetype": "text/x-python",
   "name": "python",
   "nbconvert_exporter": "python",
   "pygments_lexer": "ipython3",
   "version": "3.10.13"
  }
 },
 "nbformat": 4,
 "nbformat_minor": 2
}
