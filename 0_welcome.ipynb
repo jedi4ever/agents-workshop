{
 "cells": [
  {
   "cell_type": "markdown",
   "metadata": {},
   "source": [
    "# Welcome to the Agents Workshop\n",
    "\n",
    "## Intro\n",
    "In this first lesson we'll go through some of the basics to understand the next lessons.\n",
    "The code is written in Python, but it fairly basic and easy to understand for everyone."
   ]
  },
  {
   "cell_type": "markdown",
   "metadata": {},
   "source": [
    "For more learnings be sure to checkout the amazing free lessons on agents at <https://www.deeplearning.ai/courses/> . Filter on `agents` for specific lessons but all lessons afre well worth watching !"
   ]
  },
  {
   "cell_type": "markdown",
   "metadata": {},
   "source": [
    "## Files Structure\n",
    "- The lessons are using the Jupyter notebook format\n",
    "- The files starting with a number are the lessons\n",
    "- The files starting with an _ are typically helpers or reusable code across lessons\n",
    "\n",
    "## Requirements\n",
    "- You need a working python and Jupyter notebook environment\n",
    "- There are several ways to run the notebooks : we can recommend using VSCode\n",
    "- You also need access to an LLM to run it: Default is OpenAI \n",
    "\n",
    "## Model providers\n",
    "- You can change the config in _settings.py and switch to ollama\n",
    "- The default is openAI, model = \"gpt-4\""
   ]
  },
  {
   "cell_type": "markdown",
   "metadata": {},
   "source": [
    "## Set up Jupyter Kernel\n",
    "- Look up and to the right, you should see a button that says **Select Kernel**, click on it.\n",
    "- Click on **\"Python Environments...\"** in the menu that pops up\n",
    "- Click on the *Recommended* Python Environment\n",
    "- The Button should now read something like **Python 3.10.13**\n",
    "\n",
    "> Note: You will have to do this step for each Notebook file you open."
   ]
  },
  {
   "cell_type": "code",
   "execution_count": null,
   "metadata": {},
   "outputs": [],
   "source": []
  },
  {
   "cell_type": "code",
   "execution_count": null,
   "metadata": {},
   "outputs": [],
   "source": []
  },
  {
   "cell_type": "markdown",
   "metadata": {},
   "source": [
    "## Environment Vars\n",
    "- To use openAI you will need to set the correct environment variable `OPENAI_API_KEY`\n",
    "- Depending on your config , VSCode might autoload this via an `.env` file\n",
    "  - Copy the `.env_sample` file to `.env` (or simply rename it)\n",
    "  - [Generate an OpenAI API Key](https://platform.openai.com/api-keys) if you don't have one\n",
    "  - Paste the API key into the appropriate place in the `.env` file\n",
    "- To load this in code we use `python-dotenv`"
   ]
  },
  {
   "cell_type": "code",
   "execution_count": 1,
   "metadata": {},
   "outputs": [
    {
     "name": "stdout",
     "output_type": "stream",
     "text": [
      "Note: you may need to restart the kernel to use updated packages.\n"
     ]
    },
    {
     "data": {
      "text/plain": [
       "True"
      ]
     },
     "execution_count": 1,
     "metadata": {},
     "output_type": "execute_result"
    }
   ],
   "source": [
    "%pip install python-dotenv --quiet\n",
    "import dotenv\n",
    "dotenv.load_dotenv()"
   ]
  },
  {
   "cell_type": "markdown",
   "metadata": {},
   "source": [
    "## Libraries & Packages\n",
    "\n",
    "We'll be using 3 frameworks:\n",
    "- langchain : a framework of creating genAI applications <https://github.com/langchain-ai/langchain>\n",
    "- crewai : a library for easy creation of agents that works well with langchain <https://www.crewai.com/>\n",
    "- langgraph: a library for describing and running workflows of agents <https://langchain-ai.github.io/langgraph/>"
   ]
  },
  {
   "cell_type": "markdown",
   "metadata": {},
   "source": [
    "- langchain: the core library\n",
    "- langchain-openai: the specific library for openai\n",
    "- langchain-community: for supporting other llms like ollama\n",
    "- crewai: crewai core library\n",
    "- langgraph: the library for workflows in langchain"
   ]
  },
  {
   "cell_type": "code",
   "execution_count": 2,
   "metadata": {},
   "outputs": [
    {
     "name": "stdout",
     "output_type": "stream",
     "text": [
      "Note: you may need to restart the kernel to use updated packages.\n"
     ]
    }
   ],
   "source": [
    "# This syntax installs packages\n",
    "%pip install langchain langchain-openai langchain-community crewai langgraph --quiet"
   ]
  }
 ],
 "metadata": {
  "kernelspec": {
   "display_name": "workshop-agents-DUG816Iy-py3.12",
   "language": "python",
   "name": "python3"
  },
  "language_info": {
   "codemirror_mode": {
    "name": "ipython",
    "version": 3
   },
   "file_extension": ".py",
   "mimetype": "text/x-python",
   "name": "python",
   "nbconvert_exporter": "python",
   "pygments_lexer": "ipython3",
   "version": "3.10.13"
  }
 },
 "nbformat": 4,
 "nbformat_minor": 2
}
